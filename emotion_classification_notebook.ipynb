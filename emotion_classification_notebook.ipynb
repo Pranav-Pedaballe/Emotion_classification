{
  "nbformat": 4,
  "nbformat_minor": 0,
  "metadata": {
    "colab": {
      "provenance": [],
      "authorship_tag": "ABX9TyPYiPUlAjhMWeAkwUhIUY+Q",
      "include_colab_link": true
    },
    "kernelspec": {
      "name": "python3",
      "display_name": "Python 3"
    },
    "language_info": {
      "name": "python"
    }
  },
  "cells": [
    {
      "cell_type": "markdown",
      "metadata": {
        "id": "view-in-github",
        "colab_type": "text"
      },
      "source": [
        "<a href=\"https://colab.research.google.com/github/Pranav-Pedaballe/Emotion_classification/blob/main/emotion_classification_notebook.ipynb\" target=\"_parent\"><img src=\"https://colab.research.google.com/assets/colab-badge.svg\" alt=\"Open In Colab\"/></a>"
      ]
    },
    {
      "cell_type": "code",
      "source": [
        "import librosa\n",
        "import soundfile\n",
        "import os, glob, pickle\n",
        "import numpy as np\n",
        "from sklearn.model_selection import train_test_split\n",
        "from sklearn.metrics import accuracy_score,classification_report, confusion_matrix, f1_score\n",
        "import pickle\n",
        "import keras\n",
        "from keras import layers, Sequential\n",
        "from keras.layers import Conv1D, Activation, Dropout, Dense, Flatten, MaxPooling1D\n",
        "from sklearn.preprocessing import LabelEncoder, OneHotEncoder\n",
        "#from keras.utils import np_utils\n",
        "from keras.optimizers import Adam\n",
        "from tensorflow.keras import regularizers\n",
        "from matplotlib import pyplot as plt\n",
        "import seaborn as sn\n",
        "import pandas as pd\n",
        "import sklearn.metrics as metrics\n",
        "from keras.layers import Input\n",
        "import zipfile\n",
        "import os"
      ],
      "metadata": {
        "id": "KXhF2cwbwX0u"
      },
      "execution_count": 4,
      "outputs": []
    },
    {
      "cell_type": "code",
      "execution_count": 1,
      "metadata": {
        "id": "LVldFxJvwL7C"
      },
      "outputs": [],
      "source": [
        "with zipfile.ZipFile(\"Audio_Speech_Actors_01-24.zip\", 'r') as zip_ref:\n",
        "    zip_ref.extractall(\"Speech\")\n",
        "with zipfile.ZipFile(\"Audio_Song_Actors_01-24.zip\", 'r') as zip_ref:\n",
        "    zip_ref.extractall(\"Song\")"
      ]
    },
    {
      "cell_type": "code",
      "source": [
        "def extract(file_path):\n",
        "    parts=os.path.basename(file_path).split(\"-\")\n",
        "    modality=\"speech\" if parts[1]==\"01\" else \"song\"\n",
        "    emotion_code = int(parts[2])\n",
        "    emotion_dict = {\n",
        "        1: \"neutral\", 2: \"calm\", 3: \"happy\", 4: \"sad\",\n",
        "        5: \"angry\", 6: \"fearful\", 7: \"disgust\", 8: \"surprised\"\n",
        "    }\n",
        "    return modality, emotion_dict[emotion_code]\n",
        "\n",
        "data = []\n",
        "\n",
        "for root, _, files in os.walk(\"Speech\"):\n",
        "    for f in files:\n",
        "        if f.endswith(\".wav\"):\n",
        "            modality, emotion = extract(f)\n",
        "            data.append({\"file\": os.path.join(root, f), \"modality\": modality, \"emotion\": emotion})\n",
        "\n",
        "for root, _, files in os.walk(\"Song\"):\n",
        "    for f in files:\n",
        "        if f.endswith(\".wav\"):\n",
        "            modality, emotion = extract(f)\n",
        "            data.append({\"file\": os.path.join(root, f), \"modality\": modality, \"emotion\": emotion})\n",
        "\n",
        "df = pd.DataFrame(data)\n",
        "df.to_csv(\"ravdess.csv\", index=False)"
      ],
      "metadata": {
        "id": "CTkb4ETBwQlP"
      },
      "execution_count": 2,
      "outputs": []
    },
    {
      "cell_type": "code",
      "source": [
        "!pip install librosa soundfile"
      ],
      "metadata": {
        "colab": {
          "base_uri": "https://localhost:8080/"
        },
        "id": "5HSKNbdYwV1N",
        "outputId": "68f099e7-2596-4b38-bec1-98e7e01667ec"
      },
      "execution_count": 3,
      "outputs": [
        {
          "output_type": "stream",
          "name": "stdout",
          "text": [
            "Requirement already satisfied: librosa in /usr/local/lib/python3.11/dist-packages (0.11.0)\n",
            "Requirement already satisfied: soundfile in /usr/local/lib/python3.11/dist-packages (0.13.1)\n",
            "Requirement already satisfied: audioread>=2.1.9 in /usr/local/lib/python3.11/dist-packages (from librosa) (3.0.1)\n",
            "Requirement already satisfied: numba>=0.51.0 in /usr/local/lib/python3.11/dist-packages (from librosa) (0.60.0)\n",
            "Requirement already satisfied: numpy>=1.22.3 in /usr/local/lib/python3.11/dist-packages (from librosa) (2.0.2)\n",
            "Requirement already satisfied: scipy>=1.6.0 in /usr/local/lib/python3.11/dist-packages (from librosa) (1.15.3)\n",
            "Requirement already satisfied: scikit-learn>=1.1.0 in /usr/local/lib/python3.11/dist-packages (from librosa) (1.6.1)\n",
            "Requirement already satisfied: joblib>=1.0 in /usr/local/lib/python3.11/dist-packages (from librosa) (1.5.1)\n",
            "Requirement already satisfied: decorator>=4.3.0 in /usr/local/lib/python3.11/dist-packages (from librosa) (4.4.2)\n",
            "Requirement already satisfied: pooch>=1.1 in /usr/local/lib/python3.11/dist-packages (from librosa) (1.8.2)\n",
            "Requirement already satisfied: soxr>=0.3.2 in /usr/local/lib/python3.11/dist-packages (from librosa) (0.5.0.post1)\n",
            "Requirement already satisfied: typing_extensions>=4.1.1 in /usr/local/lib/python3.11/dist-packages (from librosa) (4.14.0)\n",
            "Requirement already satisfied: lazy_loader>=0.1 in /usr/local/lib/python3.11/dist-packages (from librosa) (0.4)\n",
            "Requirement already satisfied: msgpack>=1.0 in /usr/local/lib/python3.11/dist-packages (from librosa) (1.1.1)\n",
            "Requirement already satisfied: cffi>=1.0 in /usr/local/lib/python3.11/dist-packages (from soundfile) (1.17.1)\n",
            "Requirement already satisfied: pycparser in /usr/local/lib/python3.11/dist-packages (from cffi>=1.0->soundfile) (2.22)\n",
            "Requirement already satisfied: packaging in /usr/local/lib/python3.11/dist-packages (from lazy_loader>=0.1->librosa) (24.2)\n",
            "Requirement already satisfied: llvmlite<0.44,>=0.43.0dev0 in /usr/local/lib/python3.11/dist-packages (from numba>=0.51.0->librosa) (0.43.0)\n",
            "Requirement already satisfied: platformdirs>=2.5.0 in /usr/local/lib/python3.11/dist-packages (from pooch>=1.1->librosa) (4.3.8)\n",
            "Requirement already satisfied: requests>=2.19.0 in /usr/local/lib/python3.11/dist-packages (from pooch>=1.1->librosa) (2.32.3)\n",
            "Requirement already satisfied: threadpoolctl>=3.1.0 in /usr/local/lib/python3.11/dist-packages (from scikit-learn>=1.1.0->librosa) (3.6.0)\n",
            "Requirement already satisfied: charset-normalizer<4,>=2 in /usr/local/lib/python3.11/dist-packages (from requests>=2.19.0->pooch>=1.1->librosa) (3.4.2)\n",
            "Requirement already satisfied: idna<4,>=2.5 in /usr/local/lib/python3.11/dist-packages (from requests>=2.19.0->pooch>=1.1->librosa) (3.10)\n",
            "Requirement already satisfied: urllib3<3,>=1.21.1 in /usr/local/lib/python3.11/dist-packages (from requests>=2.19.0->pooch>=1.1->librosa) (2.4.0)\n",
            "Requirement already satisfied: certifi>=2017.4.17 in /usr/local/lib/python3.11/dist-packages (from requests>=2.19.0->pooch>=1.1->librosa) (2025.6.15)\n"
          ]
        }
      ]
    },
    {
      "cell_type": "code",
      "source": [
        "emotions = {\n",
        "    '01':'neutral',\n",
        "    '02':'calm',\n",
        "    '03':'happy',\n",
        "    '04':'sad',\n",
        "    '05':'angry',\n",
        "    '06':'fearful',\n",
        "    '07':'disgust',\n",
        "    '08':'surprised'\n",
        "}"
      ],
      "metadata": {
        "id": "d1kq9i_2wgAc"
      },
      "execution_count": 5,
      "outputs": []
    },
    {
      "cell_type": "code",
      "source": [
        "def extract_feature(data, sr):\n",
        "\n",
        "    stft = np.abs(librosa.stft(data))\n",
        "    result = np.array([])\n",
        "    mfccs=librosa.feature.mfcc(y=data, sr=sr, n_mfcc=40)\n",
        "    mfccs1 = np.mean(librosa.feature.mfcc(y=data, sr=sr, n_mfcc=40).T, axis=0)\n",
        "    result = np.hstack((result, mfccs1))\n",
        "    delta1 = librosa.feature.delta(mfccs)\n",
        "    delta2 = librosa.feature.delta(mfccs, order=2)\n",
        "    delta1_mean = np.mean(delta1.T, axis=0)\n",
        "    delta2_mean = np.mean(delta2.T, axis=0)\n",
        "    result = np.hstack((result,delta1_mean, delta2_mean))\n",
        "    chroma = np.mean(librosa.feature.chroma_stft(S=stft, sr=sr).T,axis=0)\n",
        "    result = np.hstack((result, chroma))\n",
        "    mel = np.mean(librosa.feature.melspectrogram(y=data, sr=sr).T,axis=0)\n",
        "    result = np.hstack((result, mel))\n",
        "    spec_centr=np.mean(librosa.feature.spectral_centroid(y=data, sr=sr).T, axis=0)\n",
        "    spec_bw=np.mean(librosa.feature.spectral_bandwidth(y=data, sr=sr).T, axis=0)\n",
        "    #rolloff = np.mean(librosa.feature.spectral_rolloff(y=data, sr=sr).T, axis=0)\n",
        "    #flatness = np.mean(librosa.feature.spectral_flatness(y=data).T, axis=0)\n",
        "    zcr = np.mean(librosa.feature.zero_crossing_rate(y=data).T, axis=0)\n",
        "    result = np.hstack((result, spec_centr, spec_bw, zcr))\n",
        "    #result = np.hstack((result,rolloff, flatness))\n",
        "    rmse = np.mean(librosa.feature.rms(y=data).T, axis=0)\n",
        "    #print(\"rmse shape:\",rmse.shape)\n",
        "    result = np.hstack((result, rmse))\n",
        "    #tempo, _ = librosa.beat.beat_track(y=data, sr=sr)\n",
        "    #print(\"tempo shape:\",tempo.shape)\n",
        "    #result = np.hstack((result, tempo))\n",
        "    #y_harm, y_perc = librosa.effects.hpss(data)\n",
        "    #harmonic_energy = np.mean(librosa.feature.rms(y=y_harm).T, axis=0)\n",
        "    #percussive_energy = np.mean(librosa.feature.rms(y=y_perc).T, axis=0)\n",
        "    #print(\"harm shape:\",harmonic_energy.shape)\n",
        "    #print(\"harm shape:\",percussive_energy.shape)\n",
        "    #result = np.hstack((result, harmonic_energy, percussive_energy))\n",
        "    #tonnetz = np.mean(librosa.feature.tonnetz(y=librosa.effects.harmonic(data), sr=sr).T, axis=0)\n",
        "    #print(\"tonnetz shape:\",tonnetz.shape)\n",
        "    #result = np.hstack((result, tonnetz))\n",
        "    #contrast = np.mean(librosa.feature.spectral_contrast(y=data, sr=sr).T, axis=0)\n",
        "    #print(\"contrast shape:\",contrast.shape)\n",
        "    #result = np.hstack((result, contrast))\n",
        "    return result"
      ],
      "metadata": {
        "id": "S31RwRXswsD6"
      },
      "execution_count": 6,
      "outputs": []
    },
    {
      "cell_type": "code",
      "source": [
        "def noise(data, noise_level=0.005):\n",
        "    return data + noise_level * np.random.randn(len(data))\n",
        "\n",
        "def shift(data, sr, shift_max=0.25):\n",
        "    shift= int(sr * shift_max)\n",
        "        return np.roll(data, shift_amt)\n",
        "\n",
        "def load_data(save=False):\n",
        "    x, y = [],[]\n",
        "    for folder in [\"Speech\", \"Song\"]:\n",
        "        for root, _, files in os.walk(folder):\n",
        "            for file in files:\n",
        "                if file.endswith(\".wav\"):\n",
        "                    full_path = os.path.join(root, file)\n",
        "                    try:\n",
        "                        data, sr = librosa.load(full_path)\n",
        "\n",
        "                        # Original\n",
        "                        feature = extract_feature(data, sr)\n",
        "                        x.append(feature)\n",
        "\n",
        "                        # Label\n",
        "                        emotion = extract_metadata_from_filename(file)[1]\n",
        "                        y.append(emotion)\n",
        "\n",
        "\n",
        "                    except Exception as e:\n",
        "                        print(f\"Error processing {full_path}: {e}\")\n",
        "\n",
        "    if save:\n",
        "        np.save(\"X_augmented.npy\", np.array(x))\n",
        "        np.save(\"y_augmented.npy\", np.array(y))\n",
        "\n",
        "    return np.array(x), y\n"
      ],
      "metadata": {
        "id": "4HYCk_2iwsuP"
      },
      "execution_count": 7,
      "outputs": []
    },
    {
      "cell_type": "code",
      "source": [
        "X, y = load_data(save=True)\n",
        "print(f\"Loaded {len(X)} samples.\")"
      ],
      "metadata": {
        "colab": {
          "base_uri": "https://localhost:8080/"
        },
        "id": "mgPxRHkdHYNT",
        "outputId": "9d69dc54-5fc2-4642-f0a8-8f227c9f3573"
      },
      "execution_count": 8,
      "outputs": [
        {
          "output_type": "stream",
          "name": "stdout",
          "text": [
            "Loaded 2452 samples.\n"
          ]
        }
      ]
    },
    {
      "cell_type": "code",
      "source": [
        "x_train, x_test, y_train, y_test = train_test_split(X, y, test_size=0.2, random_state=9)"
      ],
      "metadata": {
        "id": "-cUdLVPcq1Ig"
      },
      "execution_count": 44,
      "outputs": []
    },
    {
      "cell_type": "code",
      "source": [
        "X_aug = []\n",
        "y_aug = []\n",
        "to_augment = {\"disgust\", \"fearful\",\"neutral\",\"surprised\",\"happy\",\"calm\"}\n",
        "for i in range(len(x_train)):\n",
        "    label = y_train[i]\n",
        "    if label not in to_augment:\n",
        "        continue\n",
        "    subset = df[df['emotion'] == label]\n",
        "    if subset.empty:\n",
        "        continue\n",
        "    file_path = subset.sample(n=1)['file'].values[0]\n",
        "    data, sr = librosa.load(file_path)\n",
        "    n_data = noise(data)\n",
        "    n_feature = extract_feature(n_data, sr)\n",
        "    X_aug.append(n_feature)\n",
        "    y_aug.append(label)\n",
        "    s_data_r = shift(data, sr, 0.25)\n",
        "    s_feature_r = extract_feature(s_data_r, sr)\n",
        "    X_aug.append(s_feature_r)\n",
        "    y_aug.append(label)\n",
        "\n",
        "x_train = np.concatenate([x_train, np.array(X_aug)], axis=0)\n",
        "y_train = np.concatenate([y_train, np.array(y_aug)], axis=0)\n",
        "\n",
        "print(f\"Training samples after augmenting: {len(x_train)}\")"
      ],
      "metadata": {
        "colab": {
          "base_uri": "https://localhost:8080/"
        },
        "id": "-iJfr6o78EPZ",
        "outputId": "a30d4d37-28a2-425b-8d47-78f4ca4adef5"
      },
      "execution_count": 45,
      "outputs": [
        {
          "output_type": "stream",
          "name": "stdout",
          "text": [
            "Training samples after augmenting 'disgust' and 'sad': 4703\n"
          ]
        }
      ]
    },
    {
      "cell_type": "code",
      "source": [
        "labelencoder = LabelEncoder()\n",
        "labelencoder.fit(y_train)\n",
        "le_name_mapping = dict(zip(labelencoder.classes_, labelencoder.transform(labelencoder.classes_)))\n",
        "print(le_name_mapping)\n",
        "\n",
        "y_train = labelencoder.transform(y_train)\n",
        "y_test = labelencoder.transform(y_test)"
      ],
      "metadata": {
        "colab": {
          "base_uri": "https://localhost:8080/"
        },
        "id": "j3RHAwgsq4UV",
        "outputId": "9439c072-18ea-465a-a811-b598cde03b19"
      },
      "execution_count": 46,
      "outputs": [
        {
          "output_type": "stream",
          "name": "stdout",
          "text": [
            "{np.str_('angry'): np.int64(0), np.str_('calm'): np.int64(1), np.str_('disgust'): np.int64(2), np.str_('fearful'): np.int64(3), np.str_('happy'): np.int64(4), np.str_('neutral'): np.int64(5), np.str_('sad'): np.int64(6), np.str_('surprised'): np.int64(7)}\n"
          ]
        }
      ]
    },
    {
      "cell_type": "code",
      "source": [
        "model = Sequential()\n",
        "model.add(Input(shape=(264, 1)))\n",
        "model.add(Conv1D(256, 5,padding='same', input_shape=(180,1)))\n",
        "model.add(Activation('relu'))\n",
        "model.add(Conv1D(128, 5,padding='same', kernel_regularizer=regularizers.l1_l2(l1=1e-5, l2=1e-4)))\n",
        "model.add(Activation('relu'))\n",
        "model.add(Dropout(0.1))\n",
        "model.add(MaxPooling1D(pool_size=(8)))\n",
        "model.add(Conv1D(128, 5,padding='same', kernel_regularizer=regularizers.l1_l2(l1=1e-5, l2=1e-4)))\n",
        "model.add(Activation('relu'))\n",
        "model.add(Conv1D(128, 5,padding='same', kernel_regularizer=regularizers.l1_l2(l1=1e-5, l2=1e-4)))\n",
        "model.add(Activation('relu'))\n",
        "model.add(Dropout(0.5))\n",
        "model.add(Flatten())\n",
        "model.add(Dense(units=8,\n",
        "                kernel_regularizer=regularizers.l1_l2(l1=1e-5, l2=1e-4),\n",
        "                bias_regularizer=regularizers.l2(1e-4),\n",
        "                activity_regularizer=regularizers.l2(1e-5)\n",
        "                )\n",
        ")\n",
        "model.add(Activation('softmax'))\n",
        "opt = Adam(learning_rate=0.001)"
      ],
      "metadata": {
        "colab": {
          "base_uri": "https://localhost:8080/"
        },
        "id": "mJsUxBi9qVz6",
        "outputId": "6d684aaa-8bbc-493f-ad0b-5baa51ec8bd5"
      },
      "execution_count": 47,
      "outputs": [
        {
          "output_type": "stream",
          "name": "stderr",
          "text": [
            "/usr/local/lib/python3.11/dist-packages/keras/src/layers/convolutional/base_conv.py:107: UserWarning: Do not pass an `input_shape`/`input_dim` argument to a layer. When using Sequential models, prefer using an `Input(shape)` object as the first layer in the model instead.\n",
            "  super().__init__(activity_regularizer=activity_regularizer, **kwargs)\n"
          ]
        }
      ]
    },
    {
      "cell_type": "code",
      "source": [
        "model.compile(loss='sparse_categorical_crossentropy', optimizer=opt,metrics=['accuracy'])"
      ],
      "metadata": {
        "id": "r1QRcJp0qecY"
      },
      "execution_count": 48,
      "outputs": []
    },
    {
      "cell_type": "code",
      "source": [
        "from keras.callbacks import EarlyStopping\n",
        "from sklearn.utils.class_weight import compute_class_weight\n",
        "XProccessed = np.expand_dims(x_train, axis=2)\n",
        "XTestProcessed = np.expand_dims(x_test, axis=2)\n",
        "\n",
        "\n",
        "#class_weights = compute_class_weight('balanced',classes=np.unique(y_train),y=y_train)\n",
        "early_stop = EarlyStopping(monitor='val_accuracy', patience=10, restore_best_weights=True)\n",
        "history=model.fit(XProccessed, y_train, epochs=100, validation_data=(XTestProcessed, y_test),batch_size=64,callbacks=[early_stop])"
      ],
      "metadata": {
        "colab": {
          "base_uri": "https://localhost:8080/"
        },
        "id": "eazqcujRwChK",
        "outputId": "bdeed9d7-0fe6-4614-8594-f34b20ff5ceb"
      },
      "execution_count": 49,
      "outputs": [
        {
          "output_type": "stream",
          "name": "stdout",
          "text": [
            "Epoch 1/100\n",
            "\u001b[1m74/74\u001b[0m \u001b[32m━━━━━━━━━━━━━━━━━━━━\u001b[0m\u001b[37m\u001b[0m \u001b[1m39s\u001b[0m 491ms/step - accuracy: 0.1580 - loss: 9.8291 - val_accuracy: 0.1752 - val_loss: 2.1502\n",
            "Epoch 2/100\n",
            "\u001b[1m74/74\u001b[0m \u001b[32m━━━━━━━━━━━━━━━━━━━━\u001b[0m\u001b[37m\u001b[0m \u001b[1m36s\u001b[0m 481ms/step - accuracy: 0.2659 - loss: 1.9788 - val_accuracy: 0.3788 - val_loss: 1.8373\n",
            "Epoch 3/100\n",
            "\u001b[1m74/74\u001b[0m \u001b[32m━━━━━━━━━━━━━━━━━━━━\u001b[0m\u001b[37m\u001b[0m \u001b[1m35s\u001b[0m 470ms/step - accuracy: 0.4145 - loss: 1.6805 - val_accuracy: 0.4236 - val_loss: 1.6587\n",
            "Epoch 4/100\n",
            "\u001b[1m74/74\u001b[0m \u001b[32m━━━━━━━━━━━━━━━━━━━━\u001b[0m\u001b[37m\u001b[0m \u001b[1m42s\u001b[0m 487ms/step - accuracy: 0.4855 - loss: 1.5345 - val_accuracy: 0.4745 - val_loss: 1.6372\n",
            "Epoch 5/100\n",
            "\u001b[1m74/74\u001b[0m \u001b[32m━━━━━━━━━━━━━━━━━━━━\u001b[0m\u001b[37m\u001b[0m \u001b[1m40s\u001b[0m 479ms/step - accuracy: 0.5396 - loss: 1.4211 - val_accuracy: 0.4949 - val_loss: 1.6204\n",
            "Epoch 6/100\n",
            "\u001b[1m74/74\u001b[0m \u001b[32m━━━━━━━━━━━━━━━━━━━━\u001b[0m\u001b[37m\u001b[0m \u001b[1m35s\u001b[0m 472ms/step - accuracy: 0.5485 - loss: 1.4005 - val_accuracy: 0.5418 - val_loss: 1.4748\n",
            "Epoch 7/100\n",
            "\u001b[1m74/74\u001b[0m \u001b[32m━━━━━━━━━━━━━━━━━━━━\u001b[0m\u001b[37m\u001b[0m \u001b[1m41s\u001b[0m 478ms/step - accuracy: 0.5842 - loss: 1.2985 - val_accuracy: 0.5703 - val_loss: 1.3440\n",
            "Epoch 8/100\n",
            "\u001b[1m74/74\u001b[0m \u001b[32m━━━━━━━━━━━━━━━━━━━━\u001b[0m\u001b[37m\u001b[0m \u001b[1m35s\u001b[0m 469ms/step - accuracy: 0.6159 - loss: 1.2462 - val_accuracy: 0.5825 - val_loss: 1.3804\n",
            "Epoch 9/100\n",
            "\u001b[1m74/74\u001b[0m \u001b[32m━━━━━━━━━━━━━━━━━━━━\u001b[0m\u001b[37m\u001b[0m \u001b[1m36s\u001b[0m 480ms/step - accuracy: 0.6264 - loss: 1.2053 - val_accuracy: 0.5621 - val_loss: 1.3072\n",
            "Epoch 10/100\n",
            "\u001b[1m74/74\u001b[0m \u001b[32m━━━━━━━━━━━━━━━━━━━━\u001b[0m\u001b[37m\u001b[0m \u001b[1m35s\u001b[0m 480ms/step - accuracy: 0.6551 - loss: 1.1349 - val_accuracy: 0.6029 - val_loss: 1.2515\n",
            "Epoch 11/100\n",
            "\u001b[1m74/74\u001b[0m \u001b[32m━━━━━━━━━━━━━━━━━━━━\u001b[0m\u001b[37m\u001b[0m \u001b[1m36s\u001b[0m 490ms/step - accuracy: 0.6763 - loss: 1.0854 - val_accuracy: 0.6151 - val_loss: 1.2224\n",
            "Epoch 12/100\n",
            "\u001b[1m74/74\u001b[0m \u001b[32m━━━━━━━━━━━━━━━━━━━━\u001b[0m\u001b[37m\u001b[0m \u001b[1m34s\u001b[0m 464ms/step - accuracy: 0.6888 - loss: 1.0516 - val_accuracy: 0.6395 - val_loss: 1.1735\n",
            "Epoch 13/100\n",
            "\u001b[1m74/74\u001b[0m \u001b[32m━━━━━━━━━━━━━━━━━━━━\u001b[0m\u001b[37m\u001b[0m \u001b[1m43s\u001b[0m 494ms/step - accuracy: 0.6956 - loss: 1.0081 - val_accuracy: 0.6477 - val_loss: 1.1430\n",
            "Epoch 14/100\n",
            "\u001b[1m74/74\u001b[0m \u001b[32m━━━━━━━━━━━━━━━━━━━━\u001b[0m\u001b[37m\u001b[0m \u001b[1m40s\u001b[0m 479ms/step - accuracy: 0.7204 - loss: 0.9918 - val_accuracy: 0.6599 - val_loss: 1.1099\n",
            "Epoch 15/100\n",
            "\u001b[1m74/74\u001b[0m \u001b[32m━━━━━━━━━━━━━━━━━━━━\u001b[0m\u001b[37m\u001b[0m \u001b[1m34s\u001b[0m 463ms/step - accuracy: 0.7322 - loss: 0.9536 - val_accuracy: 0.6802 - val_loss: 1.0785\n",
            "Epoch 16/100\n",
            "\u001b[1m74/74\u001b[0m \u001b[32m━━━━━━━━━━━━━━━━━━━━\u001b[0m\u001b[37m\u001b[0m \u001b[1m35s\u001b[0m 479ms/step - accuracy: 0.7541 - loss: 0.9073 - val_accuracy: 0.7210 - val_loss: 1.0074\n",
            "Epoch 17/100\n",
            "\u001b[1m74/74\u001b[0m \u001b[32m━━━━━━━━━━━━━━━━━━━━\u001b[0m\u001b[37m\u001b[0m \u001b[1m41s\u001b[0m 471ms/step - accuracy: 0.7556 - loss: 0.8841 - val_accuracy: 0.6802 - val_loss: 1.0317\n",
            "Epoch 18/100\n",
            "\u001b[1m74/74\u001b[0m \u001b[32m━━━━━━━━━━━━━━━━━━━━\u001b[0m\u001b[37m\u001b[0m \u001b[1m41s\u001b[0m 473ms/step - accuracy: 0.7623 - loss: 0.8755 - val_accuracy: 0.7291 - val_loss: 0.9493\n",
            "Epoch 19/100\n",
            "\u001b[1m74/74\u001b[0m \u001b[32m━━━━━━━━━━━━━━━━━━━━\u001b[0m\u001b[37m\u001b[0m \u001b[1m42s\u001b[0m 486ms/step - accuracy: 0.7806 - loss: 0.8214 - val_accuracy: 0.7312 - val_loss: 0.9476\n",
            "Epoch 20/100\n",
            "\u001b[1m74/74\u001b[0m \u001b[32m━━━━━━━━━━━━━━━━━━━━\u001b[0m\u001b[37m\u001b[0m \u001b[1m35s\u001b[0m 471ms/step - accuracy: 0.7935 - loss: 0.8030 - val_accuracy: 0.7332 - val_loss: 0.9553\n",
            "Epoch 21/100\n",
            "\u001b[1m74/74\u001b[0m \u001b[32m━━━━━━━━━━━━━━━━━━━━\u001b[0m\u001b[37m\u001b[0m \u001b[1m42s\u001b[0m 486ms/step - accuracy: 0.8152 - loss: 0.7543 - val_accuracy: 0.7475 - val_loss: 0.8847\n",
            "Epoch 22/100\n",
            "\u001b[1m74/74\u001b[0m \u001b[32m━━━━━━━━━━━━━━━━━━━━\u001b[0m\u001b[37m\u001b[0m \u001b[1m41s\u001b[0m 487ms/step - accuracy: 0.8190 - loss: 0.7298 - val_accuracy: 0.7637 - val_loss: 0.8878\n",
            "Epoch 23/100\n",
            "\u001b[1m74/74\u001b[0m \u001b[32m━━━━━━━━━━━━━━━━━━━━\u001b[0m\u001b[37m\u001b[0m \u001b[1m40s\u001b[0m 480ms/step - accuracy: 0.8137 - loss: 0.7584 - val_accuracy: 0.7637 - val_loss: 0.8778\n",
            "Epoch 24/100\n",
            "\u001b[1m74/74\u001b[0m \u001b[32m━━━━━━━━━━━━━━━━━━━━\u001b[0m\u001b[37m\u001b[0m \u001b[1m41s\u001b[0m 484ms/step - accuracy: 0.8258 - loss: 0.6969 - val_accuracy: 0.7902 - val_loss: 0.8211\n",
            "Epoch 25/100\n",
            "\u001b[1m74/74\u001b[0m \u001b[32m━━━━━━━━━━━━━━━━━━━━\u001b[0m\u001b[37m\u001b[0m \u001b[1m39s\u001b[0m 465ms/step - accuracy: 0.8381 - loss: 0.6958 - val_accuracy: 0.7882 - val_loss: 0.8391\n",
            "Epoch 26/100\n",
            "\u001b[1m74/74\u001b[0m \u001b[32m━━━━━━━━━━━━━━━━━━━━\u001b[0m\u001b[37m\u001b[0m \u001b[1m36s\u001b[0m 487ms/step - accuracy: 0.8433 - loss: 0.6686 - val_accuracy: 0.7352 - val_loss: 0.9299\n",
            "Epoch 27/100\n",
            "\u001b[1m74/74\u001b[0m \u001b[32m━━━━━━━━━━━━━━━━━━━━\u001b[0m\u001b[37m\u001b[0m \u001b[1m40s\u001b[0m 478ms/step - accuracy: 0.8403 - loss: 0.6760 - val_accuracy: 0.8004 - val_loss: 0.8030\n",
            "Epoch 28/100\n",
            "\u001b[1m74/74\u001b[0m \u001b[32m━━━━━━━━━━━━━━━━━━━━\u001b[0m\u001b[37m\u001b[0m \u001b[1m40s\u001b[0m 463ms/step - accuracy: 0.8606 - loss: 0.6289 - val_accuracy: 0.8065 - val_loss: 0.7704\n",
            "Epoch 29/100\n",
            "\u001b[1m74/74\u001b[0m \u001b[32m━━━━━━━━━━━━━━━━━━━━\u001b[0m\u001b[37m\u001b[0m \u001b[1m35s\u001b[0m 480ms/step - accuracy: 0.8598 - loss: 0.6182 - val_accuracy: 0.7984 - val_loss: 0.7899\n",
            "Epoch 30/100\n",
            "\u001b[1m74/74\u001b[0m \u001b[32m━━━━━━━━━━━━━━━━━━━━\u001b[0m\u001b[37m\u001b[0m \u001b[1m41s\u001b[0m 487ms/step - accuracy: 0.8634 - loss: 0.6140 - val_accuracy: 0.8065 - val_loss: 0.7653\n",
            "Epoch 31/100\n",
            "\u001b[1m74/74\u001b[0m \u001b[32m━━━━━━━━━━━━━━━━━━━━\u001b[0m\u001b[37m\u001b[0m \u001b[1m40s\u001b[0m 476ms/step - accuracy: 0.8705 - loss: 0.6143 - val_accuracy: 0.7760 - val_loss: 0.8240\n",
            "Epoch 32/100\n",
            "\u001b[1m74/74\u001b[0m \u001b[32m━━━━━━━━━━━━━━━━━━━━\u001b[0m\u001b[37m\u001b[0m \u001b[1m36s\u001b[0m 488ms/step - accuracy: 0.8855 - loss: 0.5729 - val_accuracy: 0.7943 - val_loss: 0.7815\n",
            "Epoch 33/100\n",
            "\u001b[1m74/74\u001b[0m \u001b[32m━━━━━━━━━━━━━━━━━━━━\u001b[0m\u001b[37m\u001b[0m \u001b[1m41s\u001b[0m 493ms/step - accuracy: 0.8718 - loss: 0.5802 - val_accuracy: 0.7821 - val_loss: 0.8004\n",
            "Epoch 34/100\n",
            "\u001b[1m74/74\u001b[0m \u001b[32m━━━━━━━━━━━━━━━━━━━━\u001b[0m\u001b[37m\u001b[0m \u001b[1m41s\u001b[0m 488ms/step - accuracy: 0.8931 - loss: 0.5463 - val_accuracy: 0.8147 - val_loss: 0.7297\n",
            "Epoch 35/100\n",
            "\u001b[1m74/74\u001b[0m \u001b[32m━━━━━━━━━━━━━━━━━━━━\u001b[0m\u001b[37m\u001b[0m \u001b[1m40s\u001b[0m 470ms/step - accuracy: 0.9029 - loss: 0.5257 - val_accuracy: 0.8167 - val_loss: 0.7397\n",
            "Epoch 36/100\n",
            "\u001b[1m74/74\u001b[0m \u001b[32m━━━━━━━━━━━━━━━━━━━━\u001b[0m\u001b[37m\u001b[0m \u001b[1m36s\u001b[0m 493ms/step - accuracy: 0.8986 - loss: 0.5455 - val_accuracy: 0.8310 - val_loss: 0.7460\n",
            "Epoch 37/100\n",
            "\u001b[1m74/74\u001b[0m \u001b[32m━━━━━━━━━━━━━━━━━━━━\u001b[0m\u001b[37m\u001b[0m \u001b[1m41s\u001b[0m 491ms/step - accuracy: 0.9092 - loss: 0.5165 - val_accuracy: 0.8086 - val_loss: 0.7524\n",
            "Epoch 38/100\n",
            "\u001b[1m74/74\u001b[0m \u001b[32m━━━━━━━━━━━━━━━━━━━━\u001b[0m\u001b[37m\u001b[0m \u001b[1m40s\u001b[0m 471ms/step - accuracy: 0.9126 - loss: 0.5005 - val_accuracy: 0.8086 - val_loss: 0.7573\n",
            "Epoch 39/100\n",
            "\u001b[1m74/74\u001b[0m \u001b[32m━━━━━━━━━━━━━━━━━━━━\u001b[0m\u001b[37m\u001b[0m \u001b[1m41s\u001b[0m 480ms/step - accuracy: 0.9055 - loss: 0.5055 - val_accuracy: 0.8065 - val_loss: 0.7454\n",
            "Epoch 40/100\n",
            "\u001b[1m74/74\u001b[0m \u001b[32m━━━━━━━━━━━━━━━━━━━━\u001b[0m\u001b[37m\u001b[0m \u001b[1m41s\u001b[0m 487ms/step - accuracy: 0.9224 - loss: 0.4709 - val_accuracy: 0.8248 - val_loss: 0.7153\n",
            "Epoch 41/100\n",
            "\u001b[1m74/74\u001b[0m \u001b[32m━━━━━━━━━━━━━━━━━━━━\u001b[0m\u001b[37m\u001b[0m \u001b[1m36s\u001b[0m 481ms/step - accuracy: 0.9097 - loss: 0.4952 - val_accuracy: 0.8350 - val_loss: 0.7076\n",
            "Epoch 42/100\n",
            "\u001b[1m74/74\u001b[0m \u001b[32m━━━━━━━━━━━━━━━━━━━━\u001b[0m\u001b[37m\u001b[0m \u001b[1m41s\u001b[0m 488ms/step - accuracy: 0.9227 - loss: 0.4748 - val_accuracy: 0.8330 - val_loss: 0.7009\n",
            "Epoch 43/100\n",
            "\u001b[1m74/74\u001b[0m \u001b[32m━━━━━━━━━━━━━━━━━━━━\u001b[0m\u001b[37m\u001b[0m \u001b[1m41s\u001b[0m 487ms/step - accuracy: 0.9286 - loss: 0.4629 - val_accuracy: 0.8330 - val_loss: 0.7006\n",
            "Epoch 44/100\n",
            "\u001b[1m74/74\u001b[0m \u001b[32m━━━━━━━━━━━━━━━━━━━━\u001b[0m\u001b[37m\u001b[0m \u001b[1m35s\u001b[0m 470ms/step - accuracy: 0.9210 - loss: 0.4772 - val_accuracy: 0.8432 - val_loss: 0.6881\n",
            "Epoch 45/100\n",
            "\u001b[1m74/74\u001b[0m \u001b[32m━━━━━━━━━━━━━━━━━━━━\u001b[0m\u001b[37m\u001b[0m \u001b[1m42s\u001b[0m 491ms/step - accuracy: 0.9288 - loss: 0.4684 - val_accuracy: 0.8615 - val_loss: 0.6373\n",
            "Epoch 46/100\n",
            "\u001b[1m74/74\u001b[0m \u001b[32m━━━━━━━━━━━━━━━━━━━━\u001b[0m\u001b[37m\u001b[0m \u001b[1m41s\u001b[0m 495ms/step - accuracy: 0.9298 - loss: 0.4517 - val_accuracy: 0.8228 - val_loss: 0.7500\n",
            "Epoch 47/100\n",
            "\u001b[1m74/74\u001b[0m \u001b[32m━━━━━━━━━━━━━━━━━━━━\u001b[0m\u001b[37m\u001b[0m \u001b[1m41s\u001b[0m 494ms/step - accuracy: 0.9237 - loss: 0.4582 - val_accuracy: 0.8432 - val_loss: 0.7078\n",
            "Epoch 48/100\n",
            "\u001b[1m74/74\u001b[0m \u001b[32m━━━━━━━━━━━━━━━━━━━━\u001b[0m\u001b[37m\u001b[0m \u001b[1m41s\u001b[0m 493ms/step - accuracy: 0.9403 - loss: 0.4222 - val_accuracy: 0.8676 - val_loss: 0.6522\n",
            "Epoch 49/100\n",
            "\u001b[1m74/74\u001b[0m \u001b[32m━━━━━━━━━━━━━━━━━━━━\u001b[0m\u001b[37m\u001b[0m \u001b[1m40s\u001b[0m 471ms/step - accuracy: 0.9510 - loss: 0.4101 - val_accuracy: 0.8391 - val_loss: 0.6926\n",
            "Epoch 50/100\n",
            "\u001b[1m74/74\u001b[0m \u001b[32m━━━━━━━━━━━━━━━━━━━━\u001b[0m\u001b[37m\u001b[0m \u001b[1m36s\u001b[0m 486ms/step - accuracy: 0.9417 - loss: 0.4315 - val_accuracy: 0.8208 - val_loss: 0.7159\n",
            "Epoch 51/100\n",
            "\u001b[1m74/74\u001b[0m \u001b[32m━━━━━━━━━━━━━━━━━━━━\u001b[0m\u001b[37m\u001b[0m \u001b[1m36s\u001b[0m 490ms/step - accuracy: 0.9420 - loss: 0.4133 - val_accuracy: 0.8452 - val_loss: 0.7006\n",
            "Epoch 52/100\n",
            "\u001b[1m74/74\u001b[0m \u001b[32m━━━━━━━━━━━━━━━━━━━━\u001b[0m\u001b[37m\u001b[0m \u001b[1m41s\u001b[0m 485ms/step - accuracy: 0.9490 - loss: 0.4036 - val_accuracy: 0.8432 - val_loss: 0.6692\n",
            "Epoch 53/100\n",
            "\u001b[1m74/74\u001b[0m \u001b[32m━━━━━━━━━━━━━━━━━━━━\u001b[0m\u001b[37m\u001b[0m \u001b[1m41s\u001b[0m 489ms/step - accuracy: 0.9466 - loss: 0.4157 - val_accuracy: 0.8432 - val_loss: 0.6831\n",
            "Epoch 54/100\n",
            "\u001b[1m74/74\u001b[0m \u001b[32m━━━━━━━━━━━━━━━━━━━━\u001b[0m\u001b[37m\u001b[0m \u001b[1m36s\u001b[0m 484ms/step - accuracy: 0.9502 - loss: 0.3970 - val_accuracy: 0.8493 - val_loss: 0.6640\n",
            "Epoch 55/100\n",
            "\u001b[1m74/74\u001b[0m \u001b[32m━━━━━━━━━━━━━━━━━━━━\u001b[0m\u001b[37m\u001b[0m \u001b[1m35s\u001b[0m 473ms/step - accuracy: 0.9482 - loss: 0.4060 - val_accuracy: 0.8350 - val_loss: 0.7025\n",
            "Epoch 56/100\n",
            "\u001b[1m74/74\u001b[0m \u001b[32m━━━━━━━━━━━━━━━━━━━━\u001b[0m\u001b[37m\u001b[0m \u001b[1m42s\u001b[0m 485ms/step - accuracy: 0.9480 - loss: 0.4151 - val_accuracy: 0.8310 - val_loss: 0.7020\n",
            "Epoch 57/100\n",
            "\u001b[1m74/74\u001b[0m \u001b[32m━━━━━━━━━━━━━━━━━━━━\u001b[0m\u001b[37m\u001b[0m \u001b[1m41s\u001b[0m 488ms/step - accuracy: 0.9476 - loss: 0.4125 - val_accuracy: 0.8473 - val_loss: 0.6995\n",
            "Epoch 58/100\n",
            "\u001b[1m74/74\u001b[0m \u001b[32m━━━━━━━━━━━━━━━━━━━━\u001b[0m\u001b[37m\u001b[0m \u001b[1m41s\u001b[0m 489ms/step - accuracy: 0.9542 - loss: 0.3985 - val_accuracy: 0.8248 - val_loss: 0.7250\n"
          ]
        }
      ]
    },
    {
      "cell_type": "code",
      "source": [
        "import numpy as np\n",
        "from sklearn.metrics import classification_report, confusion_matrix\n",
        "import matplotlib.pyplot as plt\n",
        "import seaborn as sns\n",
        "\n",
        "# 1. Predict class‐probabilities on the test set\n",
        "y_pred_probs = model.predict(XTestProcessed)\n",
        "\n",
        "# 2. Convert probabilities to class labels\n",
        "y_pred = np.argmax(y_pred_probs, axis=1)\n",
        "\n",
        "# 3. Print the classification report\n",
        "#print(classification_report(y_test, y_pred,target_names=list(le_name_mapping.keys())))\n",
        "print(classification_report(y_test, y_pred, target_names=labelencoder.classes_))\n",
        "\n",
        "# 4. Compute the confusion matrix\n",
        "cm = confusion_matrix(y_test, y_pred)\n",
        "\n",
        "# 5. (Optional) Visualize the confusion matrix\n",
        "plt.figure(figsize=(8,6))\n",
        "sns.heatmap(cm, annot=True, fmt='d',\n",
        "            xticklabels=labelencoder.classes_,\n",
        "            yticklabels=labelencoder.classes_,\n",
        "            cmap='Blues')\n",
        "plt.xlabel('Predicted label')\n",
        "plt.ylabel('True label')\n",
        "plt.title('Confusion Matrix')\n",
        "plt.show()\n",
        "\n",
        "class_accuracy = cm.diagonal() / cm.sum(axis=1)\n",
        "for label, acc in zip(labelencoder.classes_, class_accuracy):\n",
        "    print(f\"Accuracy for class '{label}': {acc:.2%}\")"
      ],
      "metadata": {
        "colab": {
          "base_uri": "https://localhost:8080/",
          "height": 981
        },
        "id": "fL93G_kqd4_s",
        "outputId": "0ecb08f1-d3d4-4b8f-b001-986e61c52cf6"
      },
      "execution_count": 51,
      "outputs": [
        {
          "output_type": "stream",
          "name": "stdout",
          "text": [
            "\u001b[1m16/16\u001b[0m \u001b[32m━━━━━━━━━━━━━━━━━━━━\u001b[0m\u001b[37m\u001b[0m \u001b[1m1s\u001b[0m 59ms/step\n",
            "              precision    recall  f1-score   support\n",
            "\n",
            "       angry       0.96      0.81      0.88        80\n",
            "        calm       0.94      0.94      0.94        68\n",
            "     disgust       0.85      0.83      0.84        48\n",
            "     fearful       0.77      0.94      0.84        80\n",
            "       happy       0.91      0.88      0.89        77\n",
            "     neutral       0.79      0.84      0.82        32\n",
            "         sad       0.88      0.80      0.84        82\n",
            "   surprised       0.81      0.88      0.84        24\n",
            "\n",
            "    accuracy                           0.87       491\n",
            "   macro avg       0.86      0.87      0.86       491\n",
            "weighted avg       0.87      0.87      0.87       491\n",
            "\n"
          ]
        },
        {
          "output_type": "display_data",
          "data": {
            "text/plain": [
              "<Figure size 800x600 with 2 Axes>"
            ],
            "image/png": "[encoded data removed]"
          },
          "metadata": {}
        },
        {
          "output_type": "stream",
          "name": "stdout",
          "text": [
            "Accuracy for class 'angry': 81.25%\n",
            "Accuracy for class 'calm': 94.12%\n",
            "Accuracy for class 'disgust': 83.33%\n",
            "Accuracy for class 'fearful': 93.75%\n",
            "Accuracy for class 'happy': 88.31%\n",
            "Accuracy for class 'neutral': 84.38%\n",
            "Accuracy for class 'sad': 80.49%\n",
            "Accuracy for class 'surprised': 87.50%\n"
          ]
        }
      ]
    }
  ]
}